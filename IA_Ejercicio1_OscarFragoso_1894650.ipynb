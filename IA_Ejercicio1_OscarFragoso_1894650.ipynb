{
  "nbformat": 4,
  "nbformat_minor": 0,
  "metadata": {
    "colab": {
      "name": "IA_Ejercicio1_OscarFragoso_1894650.ipynb",
      "provenance": [],
      "collapsed_sections": [],
      "toc_visible": true,
      "authorship_tag": "ABX9TyOfg6yWtx+tT0idwWoUQGoR",
      "include_colab_link": true
    },
    "kernelspec": {
      "name": "python3",
      "display_name": "Python 3"
    },
    "language_info": {
      "name": "python"
    }
  },
  "cells": [
    {
      "cell_type": "markdown",
      "metadata": {
        "id": "view-in-github",
        "colab_type": "text"
      },
      "source": [
        "<a href=\"https://colab.research.google.com/github/poseidonseagod/IA007/blob/main/IA_Ejercicio1_OscarFragoso_1894650.ipynb\" target=\"_parent\"><img src=\"https://colab.research.google.com/assets/colab-badge.svg\" alt=\"Open In Colab\"/></a>"
      ]
    },
    {
      "cell_type": "markdown",
      "source": [
        "#**A2: Ejercicios Básicos en Python**#\n",
        "Oscar Marcelo Fragoso Martínez.\n",
        "\n",
        "1894650.\n",
        "\n",
        "Jueves N1-N3."
      ],
      "metadata": {
        "id": "AcrohEO57edu"
      }
    },
    {
      "cell_type": "code",
      "source": [
        "#Se pide ingresar el nombre y mediante if:elif:else se decide si se saluda o no \n",
        "nombre = input(\"Ingrese su nombre: \")\n",
        "if nombre == \"Ana\":\n",
        "  print(\"bye\")\n",
        "elif nombre == \"Juan\":\n",
        "  print(\"bye\")\n",
        "elif nombre == \"Pedro\":\n",
        "  print(\"bye\")\n",
        "else:\n",
        "  print(\"Hola \" + nombre + \"!\")"
      ],
      "metadata": {
        "colab": {
          "base_uri": "https://localhost:8080/"
        },
        "id": "MRj82pPZ8lax",
        "outputId": "9a6d116f-4a81-4697-f543-2fe08a14a8ed"
      },
      "execution_count": 47,
      "outputs": [
        {
          "output_type": "stream",
          "name": "stdout",
          "text": [
            "Ingrese su nombre: oscar\n",
            "Hola oscar!\n"
          ]
        }
      ]
    },
    {
      "cell_type": "code",
      "source": [
        "#Se declara una lista de 10 numeros y se imprime el ultimo numero\n",
        "def listnumrev():\n",
        "  numeros = [66, 78, 2, 45, 97, 17, 34, 105, 44, 52]\n",
        "  print(\"El último número de la lista es el: \")\n",
        "  print(numeros[9])\n",
        "  print(\"La lista completa es:\")\n",
        "  print(numeros[:10])\n",
        "  print(\"La lista con el orden revertido es:\")\n",
        "  #Se le da a \"i\" el valor de la cantidad de datos que se tienen -1 porque cuenta desde 0\n",
        "  i = len(numeros) - 1\n",
        "  newList = []\n",
        "  #Se usa .append para mandar los numeros del ultimo al primero de la lista inicial a la nueva lista\n",
        "  while (i >= 0):\n",
        "    newList.append(numeros[i])\n",
        "    i = i - 1\n",
        "  print(newList)\n",
        "\n",
        "listnumrev()"
      ],
      "metadata": {
        "colab": {
          "base_uri": "https://localhost:8080/"
        },
        "id": "7Oekk1akBo3C",
        "outputId": "8fc61469-2246-4836-ed35-88d88764efb1"
      },
      "execution_count": 70,
      "outputs": [
        {
          "output_type": "stream",
          "name": "stdout",
          "text": [
            "El último número de la lista es el: \n",
            "52\n",
            "La lista completa es:\n",
            "[66, 78, 2, 45, 97, 17, 34, 105, 44, 52]\n",
            "La lista con el orden revertido es:\n",
            "[52, 44, 105, 34, 17, 97, 45, 2, 78, 66]\n"
          ]
        }
      ]
    },
    {
      "cell_type": "code",
      "source": [
        "def alexelcapso():\n",
        "  print(\"***************\")\n",
        "  print(\"*    Morire   *\")\n",
        "  print(\"*     por     *\")\n",
        "  print(\"* Alexelcapso *\")\n",
        "  print(\"***************\")\n",
        "  \n",
        "alexelcapso()"
      ],
      "metadata": {
        "colab": {
          "base_uri": "https://localhost:8080/"
        },
        "id": "fMB5oFk2O8aR",
        "outputId": "ac657f13-5560-4c72-bdf2-23c61bfcacc1"
      },
      "execution_count": 72,
      "outputs": [
        {
          "output_type": "stream",
          "name": "stdout",
          "text": [
            "***************\n",
            "*    Morire   *\n",
            "*     por     *\n",
            "* Alexelcapso *\n",
            "***************\n"
          ]
        }
      ]
    }
  ]
}